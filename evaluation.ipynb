{
 "cells": [
  {
   "cell_type": "markdown",
   "id": "2c77f8ad",
   "metadata": {},
   "source": [
    "# Audio Similarity Evaluation Notebook\n",
    "\n",
    "This notebook evaluates the similarity between two audio files using modularized metrics for:\n",
    "\n",
    "1. **Harmony / Tonality** (Key, Chroma, Chord Sequences)\n",
    "2. **Rhythm / Meter** (Tempo, Beat, Downbeat)\n",
    "3. **Structural Form** (Segmentation, Boundaries)\n",
    "4. **Non-target Stems** (Source Separation, Interference)\n",
    "5. **Melodic Content / Motifs** (Melody Extraction, Motif Similarity)\n",
    "\n",
    "Each metric is implemented as a separate function for clarity and reusability."
   ]
  },
  {
   "cell_type": "code",
   "execution_count": 4,
   "id": "f5bc29fb",
   "metadata": {},
   "outputs": [
    {
     "ename": "ImportError",
     "evalue": "cannot import name 'MutableSequence' from 'collections' (/home/xunyijiang/miniconda3/envs/audio/lib/python3.11/collections/__init__.py)",
     "output_type": "error",
     "traceback": [
      "\u001b[31m---------------------------------------------------------------------------\u001b[39m",
      "\u001b[31mImportError\u001b[39m                               Traceback (most recent call last)",
      "\u001b[36mCell\u001b[39m\u001b[36m \u001b[39m\u001b[32mIn[4]\u001b[39m\u001b[32m, line 6\u001b[39m\n\u001b[32m      4\u001b[39m \u001b[38;5;28;01mimport\u001b[39;00m\u001b[38;5;250m \u001b[39m\u001b[34;01mlibrosa\u001b[39;00m\u001b[34;01m.\u001b[39;00m\u001b[34;01mdisplay\u001b[39;00m\n\u001b[32m      5\u001b[39m \u001b[38;5;28;01mimport\u001b[39;00m\u001b[38;5;250m \u001b[39m\u001b[34;01messentia\u001b[39;00m\u001b[34;01m.\u001b[39;00m\u001b[34;01mstandard\u001b[39;00m\u001b[38;5;250m \u001b[39m\u001b[38;5;28;01mas\u001b[39;00m\u001b[38;5;250m \u001b[39m\u001b[34;01mess\u001b[39;00m\n\u001b[32m----> \u001b[39m\u001b[32m6\u001b[39m \u001b[38;5;28;01mimport\u001b[39;00m\u001b[38;5;250m \u001b[39m\u001b[34;01mmadmom\u001b[39;00m\n\u001b[32m      7\u001b[39m \u001b[38;5;28;01mimport\u001b[39;00m\u001b[38;5;250m \u001b[39m\u001b[34;01mmir_eval\u001b[39;00m\n\u001b[32m      8\u001b[39m \u001b[38;5;28;01mimport\u001b[39;00m\u001b[38;5;250m \u001b[39m\u001b[34;01mmsaf\u001b[39;00m\n",
      "\u001b[36mFile \u001b[39m\u001b[32m~/miniconda3/envs/audio/lib/python3.11/site-packages/madmom/__init__.py:24\u001b[39m\n\u001b[32m     21\u001b[39m \u001b[38;5;28;01mimport\u001b[39;00m\u001b[38;5;250m \u001b[39m\u001b[34;01mpkg_resources\u001b[39;00m\n\u001b[32m     23\u001b[39m \u001b[38;5;66;03m# import all packages\u001b[39;00m\n\u001b[32m---> \u001b[39m\u001b[32m24\u001b[39m \u001b[38;5;28;01mfrom\u001b[39;00m\u001b[38;5;250m \u001b[39m\u001b[34;01m.\u001b[39;00m\u001b[38;5;250m \u001b[39m\u001b[38;5;28;01mimport\u001b[39;00m audio, evaluation, features, io, ml, models, processors, utils\n\u001b[32m     26\u001b[39m \u001b[38;5;66;03m# define a version variable\u001b[39;00m\n\u001b[32m     27\u001b[39m __version__ = pkg_resources.get_distribution(\u001b[33m\"\u001b[39m\u001b[33mmadmom\u001b[39m\u001b[33m\"\u001b[39m).version\n",
      "\u001b[36mFile \u001b[39m\u001b[32m~/miniconda3/envs/audio/lib/python3.11/site-packages/madmom/audio/__init__.py:27\u001b[39m\n\u001b[32m     24\u001b[39m \u001b[38;5;28;01mfrom\u001b[39;00m\u001b[38;5;250m \u001b[39m\u001b[34;01m__future__\u001b[39;00m\u001b[38;5;250m \u001b[39m\u001b[38;5;28;01mimport\u001b[39;00m absolute_import, division, print_function\n\u001b[32m     26\u001b[39m \u001b[38;5;66;03m# import the submodules\u001b[39;00m\n\u001b[32m---> \u001b[39m\u001b[32m27\u001b[39m \u001b[38;5;28;01mfrom\u001b[39;00m\u001b[38;5;250m \u001b[39m\u001b[34;01m.\u001b[39;00m\u001b[38;5;250m \u001b[39m\u001b[38;5;28;01mimport\u001b[39;00m comb_filters, filters, signal, spectrogram, stft\n\u001b[32m     28\u001b[39m \u001b[38;5;66;03m# import classes used often\u001b[39;00m\n\u001b[32m     29\u001b[39m \u001b[38;5;28;01mfrom\u001b[39;00m\u001b[38;5;250m \u001b[39m\u001b[34;01m.\u001b[39;00m\u001b[34;01mchroma\u001b[39;00m\u001b[38;5;250m \u001b[39m\u001b[38;5;28;01mimport\u001b[39;00m DeepChromaProcessor\n",
      "\u001b[36mFile \u001b[39m\u001b[32mmadmom/audio/comb_filters.pyx:15\u001b[39m, in \u001b[36minit madmom.audio.comb_filters\u001b[39m\u001b[34m()\u001b[39m\n",
      "\u001b[36mFile \u001b[39m\u001b[32m~/miniconda3/envs/audio/lib/python3.11/site-packages/madmom/processors.py:23\u001b[39m\n\u001b[32m     21\u001b[39m \u001b[38;5;28;01mimport\u001b[39;00m\u001b[38;5;250m \u001b[39m\u001b[34;01mos\u001b[39;00m\n\u001b[32m     22\u001b[39m \u001b[38;5;28;01mimport\u001b[39;00m\u001b[38;5;250m \u001b[39m\u001b[34;01msys\u001b[39;00m\n\u001b[32m---> \u001b[39m\u001b[32m23\u001b[39m \u001b[38;5;28;01mfrom\u001b[39;00m\u001b[38;5;250m \u001b[39m\u001b[34;01mcollections\u001b[39;00m\u001b[38;5;250m \u001b[39m\u001b[38;5;28;01mimport\u001b[39;00m MutableSequence\n\u001b[32m     25\u001b[39m \u001b[38;5;28;01mimport\u001b[39;00m\u001b[38;5;250m \u001b[39m\u001b[34;01mnumpy\u001b[39;00m\u001b[38;5;250m \u001b[39m\u001b[38;5;28;01mas\u001b[39;00m\u001b[38;5;250m \u001b[39m\u001b[34;01mnp\u001b[39;00m\n\u001b[32m     27\u001b[39m \u001b[38;5;28;01mfrom\u001b[39;00m\u001b[38;5;250m \u001b[39m\u001b[34;01m.\u001b[39;00m\u001b[34;01mutils\u001b[39;00m\u001b[38;5;250m \u001b[39m\u001b[38;5;28;01mimport\u001b[39;00m integer_types\n",
      "\u001b[31mImportError\u001b[39m: cannot import name 'MutableSequence' from 'collections' (/home/xunyijiang/miniconda3/envs/audio/lib/python3.11/collections/__init__.py)"
     ]
    }
   ],
   "source": [
    "# Import required libraries for all metrics\n",
    "import numpy as np\n",
    "import librosa\n",
    "import librosa.display\n",
    "import essentia.standard as ess\n",
    "import madmom\n",
    "import mir_eval\n",
    "import msaf\n",
    "import museval\n",
    "import soundfile as sf\n",
    "from scipy.spatial.distance import cdist\n",
    "from scipy.spatial.distance import cosine"
   ]
  },
  {
   "cell_type": "code",
   "execution_count": 3,
   "id": "6d5f3a8c",
   "metadata": {},
   "outputs": [],
   "source": [
    "# !pip install mir_eval\n",
    "# !pip install msaf\n",
    "# !pip install museval\n",
    "# !pip install madmom"
   ]
  },
  {
   "cell_type": "code",
   "execution_count": null,
   "id": "ac03dda2",
   "metadata": {},
   "outputs": [],
   "source": [
    "# Load two audio files as input\n",
    "def load_audio(file_path, sr=22050):\n",
    "    y, sr = librosa.load(file_path, sr=sr, mono=True)\n",
    "    return y, sr\n",
    "\n",
    "# Example usage:\n",
    "audio_path_1 = 'audio1.wav'  # Replace with your file path\n",
    "audio_path_2 = 'audio2.wav'  # Replace with your file path\n",
    "y1, sr1 = load_audio(audio_path_1)\n",
    "y2, sr2 = load_audio(audio_path_2)"
   ]
  },
  {
   "cell_type": "code",
   "execution_count": null,
   "id": "baf29c46",
   "metadata": {},
   "outputs": [],
   "source": [
    "# 1. Harmony / Tonality Metrics\n",
    "def extract_key_scale(y, sr):\n",
    "    audio = ess.MonoLoader(filename=None, sampleRate=sr)(y) if isinstance(y, str) else y\n",
    "    key_extractor = ess.KeyExtractor()\n",
    "    key, scale, strength = key_extractor(audio)\n",
    "    return key, scale\n",
    "\n",
    "def key_scale_similarity(key1, scale1, key2, scale2):\n",
    "    # Simple equality or circle-of-fifths distance (placeholder)\n",
    "    return int(key1 == key2 and scale1 == scale2)\n",
    "\n",
    "def chroma_similarity(y1, sr1, y2, sr2):\n",
    "    chroma1 = librosa.feature.chroma_cqt(y=y1, sr=sr1)\n",
    "    chroma2 = librosa.feature.chroma_cqt(y=y2, sr=sr2)\n",
    "    # Mean chroma correlation\n",
    "    sim = np.corrcoef(np.mean(chroma1, axis=1), np.mean(chroma2, axis=1))[0,1]\n",
    "    return sim\n",
    "\n",
    "def chroma_dtw(y1, sr1, y2, sr2):\n",
    "    chroma1 = librosa.feature.chroma_cqt(y=y1, sr=sr1)\n",
    "    chroma2 = librosa.feature.chroma_cqt(y=y2, sr=sr2)\n",
    "    D, wp = librosa.sequence.dtw(chroma1, chroma2, metric='cosine')\n",
    "    return D[-1, -1]\n",
    "\n",
    "def extract_chords_madmom(audio_path):\n",
    "    proc = madmom.features.chords.CNNChordRecognitionProcessor()\n",
    "    chords = proc(audio_path)\n",
    "    return chords\n",
    "\n",
    "def chord_eval_mir_eval(ref_chords, est_chords):\n",
    "    ref_intervals, ref_labels = ref_chords[:, :2], ref_chords[:, 2]\n",
    "    est_intervals, est_labels = est_chords[:, :2], est_chords[:, 2]\n",
    "    scores = mir_eval.chord.evaluate(ref_intervals, ref_labels, est_intervals, est_labels)\n",
    "    return scores"
   ]
  },
  {
   "cell_type": "code",
   "execution_count": 7,
   "id": "53a3492f",
   "metadata": {},
   "outputs": [
    {
     "ename": "AttributeError",
     "evalue": "module 'numpy' has no attribute 'float'.\n`np.float` was a deprecated alias for the builtin `float`. To avoid this error in existing code, use `float` by itself. Doing this will not modify any behavior and is safe. If you specifically wanted the numpy scalar type, use `np.float64` here.\nThe aliases was originally deprecated in NumPy 1.20; for more details and guidance see the original release note at:\n    https://numpy.org/devdocs/release/1.20.0-notes.html#deprecations",
     "output_type": "error",
     "traceback": [
      "\u001b[31m---------------------------------------------------------------------------\u001b[39m",
      "\u001b[31mAttributeError\u001b[39m                            Traceback (most recent call last)",
      "\u001b[36mCell\u001b[39m\u001b[36m \u001b[39m\u001b[32mIn[7]\u001b[39m\u001b[32m, line 2\u001b[39m\n\u001b[32m      1\u001b[39m \u001b[38;5;28;01mimport\u001b[39;00m\u001b[38;5;250m \u001b[39m\u001b[34;01mnumpy\u001b[39;00m\u001b[38;5;250m \u001b[39m\u001b[38;5;28;01mas\u001b[39;00m\u001b[38;5;250m \u001b[39m\u001b[34;01mnp\u001b[39;00m\n\u001b[32m----> \u001b[39m\u001b[32m2\u001b[39m \u001b[38;5;28;01mfrom\u001b[39;00m\u001b[38;5;250m \u001b[39m\u001b[34;01mmadmom\u001b[39;00m\u001b[34;01m.\u001b[39;00m\u001b[34;01mfeatures\u001b[39;00m\u001b[34;01m.\u001b[39;00m\u001b[34;01mchords\u001b[39;00m\u001b[38;5;250m \u001b[39m\u001b[38;5;28;01mimport\u001b[39;00m CNNChordFeatureProcessor, CRFChordRecognitionProcessor\n\u001b[32m      3\u001b[39m \u001b[38;5;28mprint\u001b[39m(\u001b[33m\"\u001b[39m\u001b[33mmadmom imported successfully\u001b[39m\u001b[33m\"\u001b[39m)\n",
      "\u001b[36mFile \u001b[39m\u001b[32m~/miniconda3/envs/audio/lib/python3.11/site-packages/madmom/__init__.py:24\u001b[39m\n\u001b[32m     21\u001b[39m \u001b[38;5;28;01mimport\u001b[39;00m\u001b[38;5;250m \u001b[39m\u001b[34;01mpkg_resources\u001b[39;00m\n\u001b[32m     23\u001b[39m \u001b[38;5;66;03m# import all packages\u001b[39;00m\n\u001b[32m---> \u001b[39m\u001b[32m24\u001b[39m \u001b[38;5;28;01mfrom\u001b[39;00m\u001b[38;5;250m \u001b[39m\u001b[34;01m.\u001b[39;00m\u001b[38;5;250m \u001b[39m\u001b[38;5;28;01mimport\u001b[39;00m audio, evaluation, features, io, ml, models, processors, utils\n\u001b[32m     26\u001b[39m \u001b[38;5;66;03m# define a version variable\u001b[39;00m\n\u001b[32m     27\u001b[39m __version__ = pkg_resources.get_distribution(\u001b[33m\"\u001b[39m\u001b[33mmadmom\u001b[39m\u001b[33m\"\u001b[39m).version\n",
      "\u001b[36mFile \u001b[39m\u001b[32m~/miniconda3/envs/audio/lib/python3.11/site-packages/madmom/evaluation/__init__.py:874\u001b[39m\n\u001b[32m    870\u001b[39m     \u001b[38;5;28;01mreturn\u001b[39;00m g, f\n\u001b[32m    873\u001b[39m \u001b[38;5;66;03m# finally import the submodules\u001b[39;00m\n\u001b[32m--> \u001b[39m\u001b[32m874\u001b[39m \u001b[38;5;28;01mfrom\u001b[39;00m\u001b[38;5;250m \u001b[39m\u001b[34;01m.\u001b[39;00m\u001b[38;5;250m \u001b[39m\u001b[38;5;28;01mimport\u001b[39;00m chords, beats, notes, onsets, tempo\n\u001b[32m    876\u001b[39m \u001b[38;5;66;03m# import often used classes\u001b[39;00m\n\u001b[32m    877\u001b[39m \u001b[38;5;28;01mfrom\u001b[39;00m\u001b[38;5;250m \u001b[39m\u001b[34;01m.\u001b[39;00m\u001b[34;01mbeats\u001b[39;00m\u001b[38;5;250m \u001b[39m\u001b[38;5;28;01mimport\u001b[39;00m BeatEvaluation, BeatMeanEvaluation\n",
      "\u001b[36mFile \u001b[39m\u001b[32m~/miniconda3/envs/audio/lib/python3.11/site-packages/madmom/evaluation/chords.py:35\u001b[39m\n\u001b[32m     32\u001b[39m \u001b[38;5;28;01mimport\u001b[39;00m\u001b[38;5;250m \u001b[39m\u001b[34;01mnumpy\u001b[39;00m\u001b[38;5;250m \u001b[39m\u001b[38;5;28;01mas\u001b[39;00m\u001b[38;5;250m \u001b[39m\u001b[34;01mnp\u001b[39;00m\n\u001b[32m     34\u001b[39m \u001b[38;5;28;01mfrom\u001b[39;00m\u001b[38;5;250m \u001b[39m\u001b[34;01m.\u001b[39;00m\u001b[38;5;250m \u001b[39m\u001b[38;5;28;01mimport\u001b[39;00m evaluation_io, EvaluationMixin\n\u001b[32m---> \u001b[39m\u001b[32m35\u001b[39m \u001b[38;5;28;01mfrom\u001b[39;00m\u001b[38;5;250m \u001b[39m\u001b[34;01m.\u001b[39;00m\u001b[34;01m.\u001b[39;00m\u001b[34;01mio\u001b[39;00m\u001b[38;5;250m \u001b[39m\u001b[38;5;28;01mimport\u001b[39;00m load_chords\n\u001b[32m     38\u001b[39m CHORD_DTYPE = [(\u001b[33m'\u001b[39m\u001b[33mroot\u001b[39m\u001b[33m'\u001b[39m, np.int),\n\u001b[32m     39\u001b[39m                (\u001b[33m'\u001b[39m\u001b[33mbass\u001b[39m\u001b[33m'\u001b[39m, np.int),\n\u001b[32m     40\u001b[39m                (\u001b[33m'\u001b[39m\u001b[33mintervals\u001b[39m\u001b[33m'\u001b[39m, np.int, (\u001b[32m12\u001b[39m,))]\n\u001b[32m     42\u001b[39m CHORD_ANN_DTYPE = [(\u001b[33m'\u001b[39m\u001b[33mstart\u001b[39m\u001b[33m'\u001b[39m, np.float),\n\u001b[32m     43\u001b[39m                    (\u001b[33m'\u001b[39m\u001b[33mend\u001b[39m\u001b[33m'\u001b[39m, np.float),\n\u001b[32m     44\u001b[39m                    (\u001b[33m'\u001b[39m\u001b[33mchord\u001b[39m\u001b[33m'\u001b[39m, CHORD_DTYPE)]\n",
      "\u001b[36mFile \u001b[39m\u001b[32m~/miniconda3/envs/audio/lib/python3.11/site-packages/madmom/io/__init__.py:22\u001b[39m\n\u001b[32m     18\u001b[39m ENCODING = \u001b[33m'\u001b[39m\u001b[33mutf8\u001b[39m\u001b[33m'\u001b[39m\n\u001b[32m     20\u001b[39m \u001b[38;5;66;03m# dtype for numpy structured arrays that contain labelled segments\u001b[39;00m\n\u001b[32m     21\u001b[39m \u001b[38;5;66;03m# 'label' needs to be castable to str\u001b[39;00m\n\u001b[32m---> \u001b[39m\u001b[32m22\u001b[39m SEGMENT_DTYPE = [(\u001b[33m'\u001b[39m\u001b[33mstart\u001b[39m\u001b[33m'\u001b[39m, \u001b[43mnp\u001b[49m\u001b[43m.\u001b[49m\u001b[43mfloat\u001b[49m), (\u001b[33m'\u001b[39m\u001b[33mend\u001b[39m\u001b[33m'\u001b[39m, np.float), (\u001b[33m'\u001b[39m\u001b[33mlabel\u001b[39m\u001b[33m'\u001b[39m, \u001b[38;5;28mobject\u001b[39m)]\n\u001b[32m     25\u001b[39m \u001b[38;5;66;03m# overwrite the built-in open() to transparently apply some magic file handling\u001b[39;00m\n\u001b[32m     26\u001b[39m \u001b[38;5;129m@contextlib\u001b[39m.contextmanager\n\u001b[32m     27\u001b[39m \u001b[38;5;28;01mdef\u001b[39;00m\u001b[38;5;250m \u001b[39m\u001b[34mopen_file\u001b[39m(filename, mode=\u001b[33m'\u001b[39m\u001b[33mr\u001b[39m\u001b[33m'\u001b[39m):\n",
      "\u001b[36mFile \u001b[39m\u001b[32m~/miniconda3/envs/audio/lib/python3.11/site-packages/numpy/__init__.py:324\u001b[39m, in \u001b[36m__getattr__\u001b[39m\u001b[34m(attr)\u001b[39m\n\u001b[32m    319\u001b[39m     warnings.warn(\n\u001b[32m    320\u001b[39m         \u001b[33mf\u001b[39m\u001b[33m\"\u001b[39m\u001b[33mIn the future `np.\u001b[39m\u001b[38;5;132;01m{\u001b[39;00mattr\u001b[38;5;132;01m}\u001b[39;00m\u001b[33m` will be defined as the \u001b[39m\u001b[33m\"\u001b[39m\n\u001b[32m    321\u001b[39m         \u001b[33m\"\u001b[39m\u001b[33mcorresponding NumPy scalar.\u001b[39m\u001b[33m\"\u001b[39m, \u001b[38;5;167;01mFutureWarning\u001b[39;00m, stacklevel=\u001b[32m2\u001b[39m)\n\u001b[32m    323\u001b[39m \u001b[38;5;28;01mif\u001b[39;00m attr \u001b[38;5;129;01min\u001b[39;00m __former_attrs__:\n\u001b[32m--> \u001b[39m\u001b[32m324\u001b[39m     \u001b[38;5;28;01mraise\u001b[39;00m \u001b[38;5;167;01mAttributeError\u001b[39;00m(__former_attrs__[attr])\n\u001b[32m    326\u001b[39m \u001b[38;5;28;01mif\u001b[39;00m attr == \u001b[33m'\u001b[39m\u001b[33mtesting\u001b[39m\u001b[33m'\u001b[39m:\n\u001b[32m    327\u001b[39m     \u001b[38;5;28;01mimport\u001b[39;00m\u001b[38;5;250m \u001b[39m\u001b[34;01mnumpy\u001b[39;00m\u001b[34;01m.\u001b[39;00m\u001b[34;01mtesting\u001b[39;00m\u001b[38;5;250m \u001b[39m\u001b[38;5;28;01mas\u001b[39;00m\u001b[38;5;250m \u001b[39m\u001b[34;01mtesting\u001b[39;00m\n",
      "\u001b[31mAttributeError\u001b[39m: module 'numpy' has no attribute 'float'.\n`np.float` was a deprecated alias for the builtin `float`. To avoid this error in existing code, use `float` by itself. Doing this will not modify any behavior and is safe. If you specifically wanted the numpy scalar type, use `np.float64` here.\nThe aliases was originally deprecated in NumPy 1.20; for more details and guidance see the original release note at:\n    https://numpy.org/devdocs/release/1.20.0-notes.html#deprecations"
     ]
    }
   ],
   "source": [
    "import numpy as np\n",
    "from madmom.features.chords import CNNChordFeatureProcessor, CRFChordRecognitionProcessor\n",
    "print(\"madmom imported successfully\")"
   ]
  },
  {
   "cell_type": "code",
   "execution_count": 8,
   "id": "a0277256",
   "metadata": {},
   "outputs": [
    {
     "name": "stdout",
     "output_type": "stream",
     "text": [
      "madmom import failed: module 'numpy' has no attribute 'float'.\n",
      "`np.float` was a deprecated alias for the builtin `float`. To avoid this error in existing code, use `float` by itself. Doing this will not modify any behavior and is safe. If you specifically wanted the numpy scalar type, use `np.float64` here.\n",
      "The aliases was originally deprecated in NumPy 1.20; for more details and guidance see the original release note at:\n",
      "    https://numpy.org/devdocs/release/1.20.0-notes.html#deprecations\n"
     ]
    }
   ],
   "source": [
    "# Fix for madmom compatibility with Python 3.10+\n",
    "import sys\n",
    "try:\n",
    "    # Try to patch the collections module for madmom compatibility\n",
    "    import collections\n",
    "    if not hasattr(collections, 'MutableSequence'):\n",
    "        import collections.abc\n",
    "        collections.MutableSequence = collections.abc.MutableSequence\n",
    "        collections.Iterable = collections.abc.Iterable\n",
    "        collections.Mapping = collections.abc.Mapping\n",
    "        collections.MutableMapping = collections.abc.MutableMapping\n",
    "        collections.Sequence = collections.abc.Sequence\n",
    "        print(\"Applied Python 3.10+ compatibility patch for madmom\")\n",
    "except Exception as e:\n",
    "    print(f\"Could not apply compatibility patch: {e}\")\n",
    "\n",
    "# Now try to import madmom\n",
    "try:\n",
    "    import numpy as np\n",
    "    from madmom.features.chords import CNNChordFeatureProcessor, CRFChordRecognitionProcessor\n",
    "    print(\"madmom imported successfully\")\n",
    "except Exception as e:\n",
    "    print(f\"madmom import failed: {e}\")"
   ]
  },
  {
   "cell_type": "code",
   "execution_count": null,
   "id": "f1944fd1",
   "metadata": {},
   "outputs": [],
   "source": [
    "# 2. Rhythm / Meter Metrics\n",
    "def extract_tempo_beats(y, sr):\n",
    "    tempo, beats = librosa.beat.beat_track(y=y, sr=sr, units='time')\n",
    "    return tempo, beats\n",
    "\n",
    "def tempo_difference(tempo1, tempo2):\n",
    "    return abs(tempo1 - tempo2)\n",
    "\n",
    "def beat_f_measure(ref_beats, est_beats):\n",
    "    scores = mir_eval.beat.evaluate(ref_beats, est_beats)\n",
    "    return scores['F-measure']\n",
    "\n",
    "def extract_downbeats_madmom(audio_path):\n",
    "    proc = madmom.features.downbeats.RNNDownBeatProcessor()\n",
    "    act = proc(audio_path)\n",
    "    dbn = madmom.features.downbeats.DBNDownBeatTrackingProcessor(beats_per_bar=[3,4], fps=100)\n",
    "    downbeats = dbn(act)\n",
    "    return downbeats\n",
    "\n",
    "def downbeat_alignment(ref_downbeats, est_downbeats, tolerance=0.07):\n",
    "    # Precision/recall within tolerance window\n",
    "    ref_set = set(np.round(ref_downbeats/tolerance))\n",
    "    est_set = set(np.round(est_downbeats/tolerance))\n",
    "    precision = len(ref_set & est_set) / len(est_set) if est_set else 0\n",
    "    recall = len(ref_set & est_set) / len(ref_set) if ref_set else 0\n",
    "    return precision, recall"
   ]
  },
  {
   "cell_type": "code",
   "execution_count": null,
   "id": "4bb75490",
   "metadata": {},
   "outputs": [],
   "source": [
    "# 3. Structural Form Metrics\n",
    "def segment_audio_msaf(audio_path, feature='pcp', algo='sf'):\n",
    "    boundaries, labels = msaf.segment(audio_path, feature=feature, algo=algo)\n",
    "    return boundaries, labels\n",
    "\n",
    "def segment_audio_librosa(y, sr):\n",
    "    # Novelty-based segmentation (simple example)\n",
    "    onset_env = librosa.onset.onset_strength(y=y, sr=sr)\n",
    "    boundaries = librosa.segment.agglomerative(onset_env.reshape(1, -1), k=4)\n",
    "    return boundaries\n",
    "\n",
    "def boundary_f_measure(ref_boundaries, est_boundaries, window=3):\n",
    "    precision, recall, f = mir_eval.segment.detection(ref_boundaries, est_boundaries, window=window)\n",
    "    return f\n",
    "\n",
    "def pairwise_ari(ref_boundaries, ref_labels, est_boundaries, est_labels):\n",
    "    ari = mir_eval.segment.pairwise(ref_boundaries, ref_labels, est_boundaries, est_labels)\n",
    "    return ari"
   ]
  },
  {
   "cell_type": "code",
   "execution_count": null,
   "id": "4371026c",
   "metadata": {},
   "outputs": [],
   "source": [
    "# 4. Non-target Stems (Extraneous Content) Metrics\n",
    "def bss_eval_sources(ref_sources, est_sources):\n",
    "    sdr, sir, sar, perm = mir_eval.separation.bss_eval_sources(ref_sources, est_sources)\n",
    "    return {'SDR': sdr, 'SIR': sir, 'SAR': sar, 'perm': perm}\n",
    "\n",
    "def museval_bss_eval(ref_sources, est_sources):\n",
    "    # museval wrapper (requires multi-channel input)\n",
    "    import museval\n",
    "    scores = museval.evaluate(ref_sources, est_sources)\n",
    "    return scores\n",
    "\n",
    "def instrument_tag_mismatch(ref_tags, est_tags):\n",
    "    # Simple mismatch rate between instrument tags (placeholder)\n",
    "    mismatches = sum(r != e for r, e in zip(ref_tags, est_tags))\n",
    "    return mismatches / max(len(ref_tags), 1)"
   ]
  },
  {
   "cell_type": "code",
   "execution_count": null,
   "id": "07e42290",
   "metadata": {},
   "outputs": [],
   "source": [
    "# 5. Melodic Content / Motifs Metrics\n",
    "def extract_melody_librosa(y, sr, fmin=librosa.note_to_hz('C2'), fmax=librosa.note_to_hz('C7')):\n",
    "    f0, voiced_flag, voiced_probs = librosa.pyin(y, fmin=fmin, fmax=fmax)\n",
    "    return f0, voiced_flag\n",
    "\n",
    "def extract_melody_essentia(audio_path):\n",
    "    melody_extractor = ess.MelodyExtractor()\n",
    "    f0, pitch_confidence = melody_extractor(audio_path)\n",
    "    return f0, pitch_confidence\n",
    "\n",
    "def melody_accuracy(ref_f0, est_f0, sr):\n",
    "    scores = mir_eval.melody.evaluate(ref_f0, est_f0, sr)\n",
    "    return scores\n",
    "\n",
    "def motif_dtw(f0_1, f0_2):\n",
    "    # DTW distance between two pitch contours (ignoring unvoiced)\n",
    "    mask1 = ~np.isnan(f0_1)\n",
    "    mask2 = ~np.isnan(f0_2)\n",
    "    f0_1_valid = f0_1[mask1]\n",
    "    f0_2_valid = f0_2[mask2]\n",
    "    D, wp = librosa.sequence.dtw(f0_1_valid.reshape(1, -1), f0_2_valid.reshape(1, -1), metric='euclidean')\n",
    "    return D[-1, -1]"
   ]
  },
  {
   "cell_type": "markdown",
   "id": "dae25b06",
   "metadata": {},
   "source": [
    "## Usage Example\n",
    "- Load your two audio files above (replace the file paths as needed).\n",
    "- Call the relevant metric functions for each evaluation aspect.\n",
    "- Aggregate or display the results as needed for your use case.\n",
    "\n",
    "Each function is modular and can be used independently or in combination for comprehensive audio similarity evaluation."
   ]
  }
 ],
 "metadata": {
  "kernelspec": {
   "display_name": "audio",
   "language": "python",
   "name": "python3"
  },
  "language_info": {
   "codemirror_mode": {
    "name": "ipython",
    "version": 3
   },
   "file_extension": ".py",
   "mimetype": "text/x-python",
   "name": "python",
   "nbconvert_exporter": "python",
   "pygments_lexer": "ipython3",
   "version": "3.11.13"
  }
 },
 "nbformat": 4,
 "nbformat_minor": 5
}
